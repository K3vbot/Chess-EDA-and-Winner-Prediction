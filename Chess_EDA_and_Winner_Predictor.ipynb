{
  "nbformat": 4,
  "nbformat_minor": 0,
  "metadata": {
    "colab": {
      "name": "Chess EDA and Winner Predictor.ipynb",
      "provenance": []
    },
    "kernelspec": {
      "name": "python3",
      "display_name": "Python 3"
    },
    "language_info": {
      "name": "python"
    }
  },
  "cells": [
    {
      "cell_type": "code",
      "metadata": {
        "colab": {
          "base_uri": "https://localhost:8080/"
        },
        "id": "349jlMUZSeDe",
        "outputId": "847df35e-814a-46db-a06d-10365829fb69"
      },
      "source": [
        "# mount google drive into colab\n",
        "# THIS PROJECT COULD NOT HAVE BEEN DONE WITHOUT THE HELP FROM https://machinelearningmastery.com/stacking-ensemble-machine-learning-with-python/ AND https://www.kaggle.com/datasnaek/chess\n",
        "from google.colab import drive\n",
        "drive.mount('/content/drive')"
      ],
      "execution_count": 1,
      "outputs": [
        {
          "output_type": "stream",
          "text": [
            "Mounted at /content/drive\n"
          ],
          "name": "stdout"
        }
      ]
    },
    {
      "cell_type": "code",
      "metadata": {
        "id": "RrfbLaY3VLKu"
      },
      "source": [
        "# import kaggle and download the datasets\n",
        "import os\n",
        "os.environ['KAGGLE_CONFIG_DIR'] = \"/content/drive/MyDrive/Chess EDA and Winner Regression Ensemble\""
      ],
      "execution_count": 2,
      "outputs": []
    },
    {
      "cell_type": "code",
      "metadata": {
        "colab": {
          "base_uri": "https://localhost:8080/"
        },
        "id": "bIhZwkw4VRnd",
        "outputId": "b34579f0-0a67-4d74-e21c-66311ce46b3d"
      },
      "source": [
        "%cd /content/drive/MyDrive/Chess EDA and Winner Regression Ensemble"
      ],
      "execution_count": 3,
      "outputs": [
        {
          "output_type": "stream",
          "text": [
            "/content/drive/MyDrive/Chess EDA and Winner Regression Ensemble\n"
          ],
          "name": "stdout"
        }
      ]
    },
    {
      "cell_type": "markdown",
      "metadata": {
        "id": "3c7tf0agVdp9"
      },
      "source": [
        "Download the Dataset using Kaggle API\n"
      ]
    },
    {
      "cell_type": "code",
      "metadata": {
        "colab": {
          "base_uri": "https://localhost:8080/"
        },
        "id": "JUC8dm8JVmjU",
        "outputId": "bd9e0372-3b91-413c-9b2c-74f8de3581b3"
      },
      "source": [
        "!kaggle datasets download -d datasnaek/chess"
      ],
      "execution_count": 5,
      "outputs": [
        {
          "output_type": "stream",
          "text": [
            "Downloading chess.zip to /content/drive/MyDrive/Chess EDA and Winner Regression Ensemble\n",
            "\r  0% 0.00/2.77M [00:00<?, ?B/s]\n",
            "\r100% 2.77M/2.77M [00:00<00:00, 45.4MB/s]\n"
          ],
          "name": "stdout"
        }
      ]
    },
    {
      "cell_type": "code",
      "metadata": {
        "colab": {
          "base_uri": "https://localhost:8080/"
        },
        "id": "f5Kg9INeWInz",
        "outputId": "0185e425-3f21-47c5-9dba-8b28fac8384a"
      },
      "source": [
        "!ls"
      ],
      "execution_count": 4,
      "outputs": [
        {
          "output_type": "stream",
          "text": [
            "chess_winner_prediction.sav  games.csv\tkaggle.json\n"
          ],
          "name": "stdout"
        }
      ]
    },
    {
      "cell_type": "code",
      "metadata": {
        "colab": {
          "base_uri": "https://localhost:8080/"
        },
        "id": "ef0Lew_hWLBz",
        "outputId": "9e06075e-4d2b-4c3f-951a-0cc5eb6273e1"
      },
      "source": [
        "!unzip \\*.zip  && rm *.zip"
      ],
      "execution_count": 7,
      "outputs": [
        {
          "output_type": "stream",
          "text": [
            "Archive:  chess.zip\n",
            "replace games.csv? [y]es, [n]o, [A]ll, [N]one, [r]ename: y\n",
            "  inflating: games.csv               \n"
          ],
          "name": "stdout"
        }
      ]
    },
    {
      "cell_type": "markdown",
      "metadata": {
        "id": "C--fxm7bWQ3V"
      },
      "source": [
        "Import Neccesary Packages"
      ]
    },
    {
      "cell_type": "code",
      "metadata": {
        "id": "RCfdZsjmWa7F"
      },
      "source": [
        "import pandas as pd\n",
        "import numpy as np\n",
        "import matplotlib.pyplot as plt"
      ],
      "execution_count": 5,
      "outputs": []
    },
    {
      "cell_type": "markdown",
      "metadata": {
        "id": "Eu3nhcDkcpWi"
      },
      "source": [
        "Read the CSV"
      ]
    },
    {
      "cell_type": "code",
      "metadata": {
        "id": "BseDTtA_Whrb"
      },
      "source": [
        "df = pd.read_csv(\"games.csv\")"
      ],
      "execution_count": 6,
      "outputs": []
    },
    {
      "cell_type": "code",
      "metadata": {
        "colab": {
          "base_uri": "https://localhost:8080/",
          "height": 279
        },
        "id": "6vP80QgDX6xb",
        "outputId": "f46c48d4-7825-46d7-8c66-e35fe39c9278"
      },
      "source": [
        "df.head()"
      ],
      "execution_count": 7,
      "outputs": [
        {
          "output_type": "execute_result",
          "data": {
            "text/html": [
              "<div>\n",
              "<style scoped>\n",
              "    .dataframe tbody tr th:only-of-type {\n",
              "        vertical-align: middle;\n",
              "    }\n",
              "\n",
              "    .dataframe tbody tr th {\n",
              "        vertical-align: top;\n",
              "    }\n",
              "\n",
              "    .dataframe thead th {\n",
              "        text-align: right;\n",
              "    }\n",
              "</style>\n",
              "<table border=\"1\" class=\"dataframe\">\n",
              "  <thead>\n",
              "    <tr style=\"text-align: right;\">\n",
              "      <th></th>\n",
              "      <th>id</th>\n",
              "      <th>rated</th>\n",
              "      <th>created_at</th>\n",
              "      <th>last_move_at</th>\n",
              "      <th>turns</th>\n",
              "      <th>victory_status</th>\n",
              "      <th>winner</th>\n",
              "      <th>increment_code</th>\n",
              "      <th>white_id</th>\n",
              "      <th>white_rating</th>\n",
              "      <th>black_id</th>\n",
              "      <th>black_rating</th>\n",
              "      <th>moves</th>\n",
              "      <th>opening_eco</th>\n",
              "      <th>opening_name</th>\n",
              "      <th>opening_ply</th>\n",
              "    </tr>\n",
              "  </thead>\n",
              "  <tbody>\n",
              "    <tr>\n",
              "      <th>0</th>\n",
              "      <td>TZJHLljE</td>\n",
              "      <td>False</td>\n",
              "      <td>1.504210e+12</td>\n",
              "      <td>1.504210e+12</td>\n",
              "      <td>13</td>\n",
              "      <td>outoftime</td>\n",
              "      <td>white</td>\n",
              "      <td>15+2</td>\n",
              "      <td>bourgris</td>\n",
              "      <td>1500</td>\n",
              "      <td>a-00</td>\n",
              "      <td>1191</td>\n",
              "      <td>d4 d5 c4 c6 cxd5 e6 dxe6 fxe6 Nf3 Bb4+ Nc3 Ba5...</td>\n",
              "      <td>D10</td>\n",
              "      <td>Slav Defense: Exchange Variation</td>\n",
              "      <td>5</td>\n",
              "    </tr>\n",
              "    <tr>\n",
              "      <th>1</th>\n",
              "      <td>l1NXvwaE</td>\n",
              "      <td>True</td>\n",
              "      <td>1.504130e+12</td>\n",
              "      <td>1.504130e+12</td>\n",
              "      <td>16</td>\n",
              "      <td>resign</td>\n",
              "      <td>black</td>\n",
              "      <td>5+10</td>\n",
              "      <td>a-00</td>\n",
              "      <td>1322</td>\n",
              "      <td>skinnerua</td>\n",
              "      <td>1261</td>\n",
              "      <td>d4 Nc6 e4 e5 f4 f6 dxe5 fxe5 fxe5 Nxe5 Qd4 Nc6...</td>\n",
              "      <td>B00</td>\n",
              "      <td>Nimzowitsch Defense: Kennedy Variation</td>\n",
              "      <td>4</td>\n",
              "    </tr>\n",
              "    <tr>\n",
              "      <th>2</th>\n",
              "      <td>mIICvQHh</td>\n",
              "      <td>True</td>\n",
              "      <td>1.504130e+12</td>\n",
              "      <td>1.504130e+12</td>\n",
              "      <td>61</td>\n",
              "      <td>mate</td>\n",
              "      <td>white</td>\n",
              "      <td>5+10</td>\n",
              "      <td>ischia</td>\n",
              "      <td>1496</td>\n",
              "      <td>a-00</td>\n",
              "      <td>1500</td>\n",
              "      <td>e4 e5 d3 d6 Be3 c6 Be2 b5 Nd2 a5 a4 c5 axb5 Nc...</td>\n",
              "      <td>C20</td>\n",
              "      <td>King's Pawn Game: Leonardis Variation</td>\n",
              "      <td>3</td>\n",
              "    </tr>\n",
              "    <tr>\n",
              "      <th>3</th>\n",
              "      <td>kWKvrqYL</td>\n",
              "      <td>True</td>\n",
              "      <td>1.504110e+12</td>\n",
              "      <td>1.504110e+12</td>\n",
              "      <td>61</td>\n",
              "      <td>mate</td>\n",
              "      <td>white</td>\n",
              "      <td>20+0</td>\n",
              "      <td>daniamurashov</td>\n",
              "      <td>1439</td>\n",
              "      <td>adivanov2009</td>\n",
              "      <td>1454</td>\n",
              "      <td>d4 d5 Nf3 Bf5 Nc3 Nf6 Bf4 Ng4 e3 Nc6 Be2 Qd7 O...</td>\n",
              "      <td>D02</td>\n",
              "      <td>Queen's Pawn Game: Zukertort Variation</td>\n",
              "      <td>3</td>\n",
              "    </tr>\n",
              "    <tr>\n",
              "      <th>4</th>\n",
              "      <td>9tXo1AUZ</td>\n",
              "      <td>True</td>\n",
              "      <td>1.504030e+12</td>\n",
              "      <td>1.504030e+12</td>\n",
              "      <td>95</td>\n",
              "      <td>mate</td>\n",
              "      <td>white</td>\n",
              "      <td>30+3</td>\n",
              "      <td>nik221107</td>\n",
              "      <td>1523</td>\n",
              "      <td>adivanov2009</td>\n",
              "      <td>1469</td>\n",
              "      <td>e4 e5 Nf3 d6 d4 Nc6 d5 Nb4 a3 Na6 Nc3 Be7 b4 N...</td>\n",
              "      <td>C41</td>\n",
              "      <td>Philidor Defense</td>\n",
              "      <td>5</td>\n",
              "    </tr>\n",
              "  </tbody>\n",
              "</table>\n",
              "</div>"
            ],
            "text/plain": [
              "         id  rated  ...                            opening_name  opening_ply\n",
              "0  TZJHLljE  False  ...        Slav Defense: Exchange Variation            5\n",
              "1  l1NXvwaE   True  ...  Nimzowitsch Defense: Kennedy Variation            4\n",
              "2  mIICvQHh   True  ...   King's Pawn Game: Leonardis Variation            3\n",
              "3  kWKvrqYL   True  ...  Queen's Pawn Game: Zukertort Variation            3\n",
              "4  9tXo1AUZ   True  ...                        Philidor Defense            5\n",
              "\n",
              "[5 rows x 16 columns]"
            ]
          },
          "metadata": {
            "tags": []
          },
          "execution_count": 7
        }
      ]
    },
    {
      "cell_type": "markdown",
      "metadata": {
        "id": "o1smkd4Pglcw"
      },
      "source": [
        "Define Some Values"
      ]
    },
    {
      "cell_type": "code",
      "metadata": {
        "colab": {
          "base_uri": "https://localhost:8080/"
        },
        "id": "U9oATbTWgmV4",
        "outputId": "fcf01b50-d2ae-4e47-bb2d-d6009aed2494"
      },
      "source": [
        "rows, cols = df.shape[0], df.shape[1]\n",
        "print(rows)"
      ],
      "execution_count": 8,
      "outputs": [
        {
          "output_type": "stream",
          "text": [
            "20058\n"
          ],
          "name": "stdout"
        }
      ]
    },
    {
      "cell_type": "markdown",
      "metadata": {
        "id": "fQjZwF91diD0"
      },
      "source": [
        "Check for any Null Vales\n"
      ]
    },
    {
      "cell_type": "code",
      "metadata": {
        "colab": {
          "base_uri": "https://localhost:8080/"
        },
        "id": "xBoPfB40cnfq",
        "outputId": "aa0a8342-4439-48e0-a6f5-ee3977028fac"
      },
      "source": [
        "df.isna().sum()"
      ],
      "execution_count": 9,
      "outputs": [
        {
          "output_type": "execute_result",
          "data": {
            "text/plain": [
              "id                0\n",
              "rated             0\n",
              "created_at        0\n",
              "last_move_at      0\n",
              "turns             0\n",
              "victory_status    0\n",
              "winner            0\n",
              "increment_code    0\n",
              "white_id          0\n",
              "white_rating      0\n",
              "black_id          0\n",
              "black_rating      0\n",
              "moves             0\n",
              "opening_eco       0\n",
              "opening_name      0\n",
              "opening_ply       0\n",
              "dtype: int64"
            ]
          },
          "metadata": {
            "tags": []
          },
          "execution_count": 9
        }
      ]
    },
    {
      "cell_type": "code",
      "metadata": {
        "colab": {
          "base_uri": "https://localhost:8080/"
        },
        "id": "YSD6d_50kvLv",
        "outputId": "01ecf435-2bb4-4391-df32-ed25af2ee6e7"
      },
      "source": [
        "df.dtypes"
      ],
      "execution_count": 10,
      "outputs": [
        {
          "output_type": "execute_result",
          "data": {
            "text/plain": [
              "id                 object\n",
              "rated                bool\n",
              "created_at        float64\n",
              "last_move_at      float64\n",
              "turns               int64\n",
              "victory_status     object\n",
              "winner             object\n",
              "increment_code     object\n",
              "white_id           object\n",
              "white_rating        int64\n",
              "black_id           object\n",
              "black_rating        int64\n",
              "moves              object\n",
              "opening_eco        object\n",
              "opening_name       object\n",
              "opening_ply         int64\n",
              "dtype: object"
            ]
          },
          "metadata": {
            "tags": []
          },
          "execution_count": 10
        }
      ]
    },
    {
      "cell_type": "markdown",
      "metadata": {
        "id": "_eMEGieNN4Cf"
      },
      "source": [
        "Looking at the Rating statistics"
      ]
    },
    {
      "cell_type": "code",
      "metadata": {
        "colab": {
          "base_uri": "https://localhost:8080/"
        },
        "id": "pbpa1Oy-N1dv",
        "outputId": "b29da502-c6fb-404d-a0b4-605f705d30d1"
      },
      "source": [
        "df['white_rating'].describe()"
      ],
      "execution_count": 86,
      "outputs": [
        {
          "output_type": "execute_result",
          "data": {
            "text/plain": [
              "count    20058.000000\n",
              "mean      1596.631868\n",
              "std        291.253376\n",
              "min        784.000000\n",
              "25%       1398.000000\n",
              "50%       1567.000000\n",
              "75%       1793.000000\n",
              "max       2700.000000\n",
              "Name: white_rating, dtype: float64"
            ]
          },
          "metadata": {
            "tags": []
          },
          "execution_count": 86
        }
      ]
    },
    {
      "cell_type": "code",
      "metadata": {
        "colab": {
          "base_uri": "https://localhost:8080/"
        },
        "id": "1fKVQq32N7cY",
        "outputId": "b07d2bc7-c88f-48c0-8fb3-8d8a026a4ca2"
      },
      "source": [
        "df['black_rating'].describe()"
      ],
      "execution_count": 87,
      "outputs": [
        {
          "output_type": "execute_result",
          "data": {
            "text/plain": [
              "count    20058.000000\n",
              "mean      1588.831987\n",
              "std        291.036126\n",
              "min        789.000000\n",
              "25%       1391.000000\n",
              "50%       1562.000000\n",
              "75%       1784.000000\n",
              "max       2723.000000\n",
              "Name: black_rating, dtype: float64"
            ]
          },
          "metadata": {
            "tags": []
          },
          "execution_count": 87
        }
      ]
    },
    {
      "cell_type": "markdown",
      "metadata": {
        "id": "lJ_cdQg7OCyO"
      },
      "source": [
        "Key Takeaways (For Both Rating Categories)\n",
        "* What we get from this description is we can see that the average rating is around 1600 which is most likely true to the rest of the world as well.\n",
        "\n",
        "* We also see that the minimum of this data is 789 and although thats not too nice, we can reccomend our model to anybody who fills between that 700 - 2800 gap and nobody below."
      ]
    },
    {
      "cell_type": "markdown",
      "metadata": {
        "id": "5auB6Mw4TJTw"
      },
      "source": [
        "# Rated or Unrated Games\n"
      ]
    },
    {
      "cell_type": "code",
      "metadata": {
        "colab": {
          "base_uri": "https://localhost:8080/"
        },
        "id": "hW7cMKG7T041",
        "outputId": "5642e86a-fe4e-4312-b1fb-c32c0b22f175"
      },
      "source": [
        "df[\"rated\"].value_counts(normalize=True) * 100"
      ],
      "execution_count": 11,
      "outputs": [
        {
          "output_type": "execute_result",
          "data": {
            "text/plain": [
              "True     80.54143\n",
              "False    19.45857\n",
              "Name: rated, dtype: float64"
            ]
          },
          "metadata": {
            "tags": []
          },
          "execution_count": 11
        }
      ]
    },
    {
      "cell_type": "code",
      "metadata": {
        "colab": {
          "base_uri": "https://localhost:8080/",
          "height": 318
        },
        "id": "ZJnUjzorUIF1",
        "outputId": "7bbc4ac4-ab12-4dee-c7b5-f647c2fc9636"
      },
      "source": [
        "rated_data = df[\"rated\"].value_counts()\n",
        "plt.pie(rated_data, labels=rated_data.index)"
      ],
      "execution_count": 12,
      "outputs": [
        {
          "output_type": "execute_result",
          "data": {
            "text/plain": [
              "([<matplotlib.patches.Wedge at 0x7fa4db701d50>,\n",
              "  <matplotlib.patches.Wedge at 0x7fa4db710190>],\n",
              " [Text(-0.900787209778242, 0.631333828255646, 'True'),\n",
              "  Text(0.9007872393331104, -0.6313337860867528, 'False')])"
            ]
          },
          "metadata": {
            "tags": []
          },
          "execution_count": 12
        },
        {
          "output_type": "display_data",
          "data": {
            "image/png": "[encoded data removed]",
            "text/plain": [
              "<Figure size 432x288 with 1 Axes>"
            ]
          },
          "metadata": {
            "tags": []
          }
        }
      ]
    },
    {
      "cell_type": "markdown",
      "metadata": {
        "id": "UYHnOePIUPtk"
      },
      "source": [
        "Key Takeaways\n",
        "* This data is pretty self explanatory. We definitely see more players leaning toward rated games which makes sense because its more competitive."
      ]
    },
    {
      "cell_type": "markdown",
      "metadata": {
        "id": "txDMHV8ddqAi"
      },
      "source": [
        "\n",
        "# How does Rating Affect the Winner?"
      ]
    },
    {
      "cell_type": "code",
      "metadata": {
        "colab": {
          "base_uri": "https://localhost:8080/"
        },
        "id": "wsHIjdhZf-3V",
        "outputId": "3a2f0802-2c55-4d77-fae1-880efb6229c1"
      },
      "source": [
        "ratings = []\n",
        "for i in range(rows):\n",
        "  if df.iloc[i].winner == \"white\":\n",
        "    rating = df.iloc[i].white_rating - df.iloc[i].black_rating\n",
        "    ratings.append(rating)\n",
        "  elif df.iloc[i].winner == \"black\":\n",
        "    rating = (-1* df.iloc[i].white_rating) + df.iloc[i].black_rating\n",
        "    ratings.append(rating)\n",
        "  elif df.iloc[i].winner == \"draw\":\n",
        "    if df.iloc[i].white_rating > df.iloc[i].black_rating:\n",
        "      rating = df.iloc[i].white_rating - df.iloc[i].black_rating\n",
        "      ratings.append(rating)\n",
        "    elif df.iloc[i].white_rating < df.iloc[i].black_rating:\n",
        "      rating = (-1* df.iloc[i].white_rating) + df.iloc[i].black_rating\n",
        "      ratings.append(rating)\n",
        "    elif df.iloc[i].white_rating == df.iloc[i].black_rating:\n",
        "      rating = df.iloc[i].white_rating - df.iloc[i].black_rating\n",
        "      ratings.append(rating)\n",
        "ratings = np.asarray(ratings)\n",
        "df[\"rating_differences\"] = ratings\n",
        "df.rating_differences.head()"
      ],
      "execution_count": 14,
      "outputs": [
        {
          "output_type": "execute_result",
          "data": {
            "text/plain": [
              "0    309\n",
              "1    -61\n",
              "2     -4\n",
              "3    -15\n",
              "4     54\n",
              "Name: rating_differences, dtype: int64"
            ]
          },
          "metadata": {
            "tags": []
          },
          "execution_count": 14
        }
      ]
    },
    {
      "cell_type": "code",
      "metadata": {
        "colab": {
          "base_uri": "https://localhost:8080/"
        },
        "id": "LzVp0gPCkSIe",
        "outputId": "6a50d20e-3fe0-4c61-b8ce-d89ed0ef7193"
      },
      "source": [
        "ratings_by_winner = df.groupby(\"winner\").rating_differences.count()\n",
        "ratings_by_winner.head()"
      ],
      "execution_count": 15,
      "outputs": [
        {
          "output_type": "execute_result",
          "data": {
            "text/plain": [
              "winner\n",
              "black     9107\n",
              "draw       950\n",
              "white    10001\n",
              "Name: rating_differences, dtype: int64"
            ]
          },
          "metadata": {
            "tags": []
          },
          "execution_count": 15
        }
      ]
    },
    {
      "cell_type": "code",
      "metadata": {
        "colab": {
          "base_uri": "https://localhost:8080/"
        },
        "id": "x9GdV2dslwkn",
        "outputId": "76187baf-66df-4570-c4b4-da485bdb8e84"
      },
      "source": [
        "ratings_by_winner_df = pd.DataFrame()\n",
        "ratings_by_winner_df[\"winner\"] = df[\"winner\"]\n",
        "ratings_by_winner_df[\"rating_differences\"] = df[\"rating_differences\"]\n",
        "ratings_by_winner_df.groupby(\"winner\").rating_differences.count()\n"
      ],
      "execution_count": 16,
      "outputs": [
        {
          "output_type": "execute_result",
          "data": {
            "text/plain": [
              "winner\n",
              "black     9107\n",
              "draw       950\n",
              "white    10001\n",
              "Name: rating_differences, dtype: int64"
            ]
          },
          "metadata": {
            "tags": []
          },
          "execution_count": 16
        }
      ]
    },
    {
      "cell_type": "code",
      "metadata": {
        "colab": {
          "base_uri": "https://localhost:8080/",
          "height": 195
        },
        "id": "wPwV2I3KwCys",
        "outputId": "7496eccd-21c3-4aa3-e18f-41cb83dc2a23"
      },
      "source": [
        "ratings_by_winner_df.head()"
      ],
      "execution_count": 17,
      "outputs": [
        {
          "output_type": "execute_result",
          "data": {
            "text/html": [
              "<div>\n",
              "<style scoped>\n",
              "    .dataframe tbody tr th:only-of-type {\n",
              "        vertical-align: middle;\n",
              "    }\n",
              "\n",
              "    .dataframe tbody tr th {\n",
              "        vertical-align: top;\n",
              "    }\n",
              "\n",
              "    .dataframe thead th {\n",
              "        text-align: right;\n",
              "    }\n",
              "</style>\n",
              "<table border=\"1\" class=\"dataframe\">\n",
              "  <thead>\n",
              "    <tr style=\"text-align: right;\">\n",
              "      <th></th>\n",
              "      <th>winner</th>\n",
              "      <th>rating_differences</th>\n",
              "    </tr>\n",
              "  </thead>\n",
              "  <tbody>\n",
              "    <tr>\n",
              "      <th>0</th>\n",
              "      <td>white</td>\n",
              "      <td>309</td>\n",
              "    </tr>\n",
              "    <tr>\n",
              "      <th>1</th>\n",
              "      <td>black</td>\n",
              "      <td>-61</td>\n",
              "    </tr>\n",
              "    <tr>\n",
              "      <th>2</th>\n",
              "      <td>white</td>\n",
              "      <td>-4</td>\n",
              "    </tr>\n",
              "    <tr>\n",
              "      <th>3</th>\n",
              "      <td>white</td>\n",
              "      <td>-15</td>\n",
              "    </tr>\n",
              "    <tr>\n",
              "      <th>4</th>\n",
              "      <td>white</td>\n",
              "      <td>54</td>\n",
              "    </tr>\n",
              "  </tbody>\n",
              "</table>\n",
              "</div>"
            ],
            "text/plain": [
              "  winner  rating_differences\n",
              "0  white                 309\n",
              "1  black                 -61\n",
              "2  white                  -4\n",
              "3  white                 -15\n",
              "4  white                  54"
            ]
          },
          "metadata": {
            "tags": []
          },
          "execution_count": 17
        }
      ]
    },
    {
      "cell_type": "code",
      "metadata": {
        "colab": {
          "base_uri": "https://localhost:8080/",
          "height": 313
        },
        "id": "-NnQ21orm0cX",
        "outputId": "c8c06b5f-605d-4e2e-8bc4-5448fc03fe2b"
      },
      "source": [
        "plt.bar(x=ratings_by_winner_df[\"winner\"], height=ratings_by_winner_df[\"rating_differences\"])\n",
        "plt.xlabel(\"Winner\")\n",
        "plt.ylabel(\"Rating Differences\")\n",
        "plt.title(\"Rating Differences vs Winner\")"
      ],
      "execution_count": 18,
      "outputs": [
        {
          "output_type": "execute_result",
          "data": {
            "text/plain": [
              "Text(0.5, 1.0, 'Rating Differences vs Winner')"
            ]
          },
          "metadata": {
            "tags": []
          },
          "execution_count": 18
        },
        {
          "output_type": "display_data",
          "data": {
            "image/png": "[encoded data removed]",
            "text/plain": [
              "<Figure size 432x288 with 1 Axes>"
            ]
          },
          "metadata": {
            "tags": [],
            "needs_background": "light"
          }
        }
      ]
    },
    {
      "cell_type": "markdown",
      "metadata": {
        "id": "l8E_6Ly1p1QF"
      },
      "source": [
        "Key Takeaways\n",
        "\n",
        "\n",
        "*   The Winners for Black and White seem to vary in rating differences. Sometimes a player is way better  off in terms of ratings, and they win (this is fairly normal and makes complete sense). Vice-verse, we notice that a player that is has a way lower rating still manages to win (this means based off this data alone we can't create clear predictions because the trends aren't obvious to the human eye.\n",
        "\n",
        "\n",
        "*   The Draw category is also slightly irregular. Its common knowledge that players that are similar in skill will mostly likely end in a draw. We notice that for the most part and give or take a difference in 500, we see that draws are occuring in that skill gap. The outliers (a difference in 500 -> 1000) are showing us that a substantial gap between players are still showing draws. That somewhat makes sense, because with chess its not always clearly predictable, but we still have to dive a little more in-depth to identify more transparent patterns and trends.\n",
        "\n",
        "*  One crucial factor we have to take into account is that RATINGS ARE NOT A PERFECT INDICATOR OF SKILL. The ratings are solely a guiding variable to help us get a good understanding of a players skills.\n",
        "\n"
      ]
    },
    {
      "cell_type": "markdown",
      "metadata": {
        "id": "ClN4XDMea5u6"
      },
      "source": [
        "# Turns vs Winning Outcome\n"
      ]
    },
    {
      "cell_type": "code",
      "metadata": {
        "colab": {
          "base_uri": "https://localhost:8080/"
        },
        "id": "QSteUi9FbAmq",
        "outputId": "5cf0ed9f-a858-4ee7-b694-74933c2eba0a"
      },
      "source": [
        "turns_by_winner = df.groupby(\"victory_status\").turns.count()\n",
        "turns_by_winner.head()"
      ],
      "execution_count": 13,
      "outputs": [
        {
          "output_type": "execute_result",
          "data": {
            "text/plain": [
              "victory_status\n",
              "draw           906\n",
              "mate          6325\n",
              "outoftime     1680\n",
              "resign       11147\n",
              "Name: turns, dtype: int64"
            ]
          },
          "metadata": {
            "tags": []
          },
          "execution_count": 13
        }
      ]
    },
    {
      "cell_type": "code",
      "metadata": {
        "colab": {
          "base_uri": "https://localhost:8080/"
        },
        "id": "zgqAYwnQbj0i",
        "outputId": "23a16574-5dca-4616-bbfd-2087770513db"
      },
      "source": [
        "turns_by_victory_status_df = pd.DataFrame()\n",
        "turns_by_victory_status_df[\"victory_status\"] = df[\"victory_status\"]\n",
        "turns_by_victory_status_df[\"turns\"] = df[\"turns\"]\n",
        "turns_by_victory_status_df.groupby(\"victory_status\").turns.count()"
      ],
      "execution_count": 15,
      "outputs": [
        {
          "output_type": "execute_result",
          "data": {
            "text/plain": [
              "victory_status\n",
              "draw           906\n",
              "mate          6325\n",
              "outoftime     1680\n",
              "resign       11147\n",
              "Name: turns, dtype: int64"
            ]
          },
          "metadata": {
            "tags": []
          },
          "execution_count": 15
        }
      ]
    },
    {
      "cell_type": "code",
      "metadata": {
        "colab": {
          "base_uri": "https://localhost:8080/",
          "height": 313
        },
        "id": "P90FDZ9Wd0hh",
        "outputId": "cd10d2db-59e3-4be6-ac14-01eb527eda76"
      },
      "source": [
        "plt.bar(x=turns_by_victory_status_df[\"victory_status\"], height=turns_by_victory_status_df[\"turns\"])\n",
        "plt.xlabel(\"Victory Status\")\n",
        "plt.ylabel(\"Turns\")\n",
        "plt.title(\"Turns vs Victory Status\")"
      ],
      "execution_count": 19,
      "outputs": [
        {
          "output_type": "execute_result",
          "data": {
            "text/plain": [
              "Text(0.5, 1.0, 'Turns vs Victory Status')"
            ]
          },
          "metadata": {
            "tags": []
          },
          "execution_count": 19
        },
        {
          "output_type": "display_data",
          "data": {
            "image/png": "[encoded data removed]",
            "text/plain": [
              "<Figure size 432x288 with 1 Axes>"
            ]
          },
          "metadata": {
            "tags": [],
            "needs_background": "light"
          }
        }
      ]
    },
    {
      "cell_type": "markdown",
      "metadata": {
        "id": "vaOaZzzrfjup"
      },
      "source": [
        "Key Takeaways\n",
        "* This graph is representing the expected patterns. First and foremost, the outoftime style will obviously have the most turns, because playes keep going back and forth till time runs out. Then resign has roughly from 0 - 200, which confirms our suspicion that players either are leaving early because they just don't want to play, or they get toward the end of the game (200 turns) and know which direction the game is going. For draw and mate, they have the expected turn counts, because it really varies on the games for these values."
      ]
    },
    {
      "cell_type": "markdown",
      "metadata": {
        "id": "RbzYmqpqOzyO"
      },
      "source": [
        "# Game Outcome Distribution\n"
      ]
    },
    {
      "cell_type": "code",
      "metadata": {
        "id": "CUo8aq2aO47v"
      },
      "source": [
        "df = pd.read_csv(\"games.csv\")"
      ],
      "execution_count": 44,
      "outputs": []
    },
    {
      "cell_type": "code",
      "metadata": {
        "colab": {
          "base_uri": "https://localhost:8080/"
        },
        "id": "hDaICM7dQSKV",
        "outputId": "dd3e656f-ed6a-4e93-ab1e-2663eaf5a22c"
      },
      "source": [
        "df[\"victory_status\"].value_counts(normalize=True) * 100"
      ],
      "execution_count": 45,
      "outputs": [
        {
          "output_type": "execute_result",
          "data": {
            "text/plain": [
              "resign       55.573836\n",
              "mate         31.533553\n",
              "outoftime     8.375710\n",
              "draw          4.516901\n",
              "Name: victory_status, dtype: float64"
            ]
          },
          "metadata": {
            "tags": []
          },
          "execution_count": 45
        }
      ]
    },
    {
      "cell_type": "code",
      "metadata": {
        "colab": {
          "base_uri": "https://localhost:8080/",
          "height": 389
        },
        "id": "0PJMPXXRPK8N",
        "outputId": "c1f00e14-91e8-4367-e994-209fcf0c27a8"
      },
      "source": [
        "victory_status_data = df[\"victory_status\"].value_counts()\n",
        "plt.pie(victory_status_data, labels=victory_status_data.index)"
      ],
      "execution_count": 46,
      "outputs": [
        {
          "output_type": "execute_result",
          "data": {
            "text/plain": [
              "([<matplotlib.patches.Wedge at 0x7f608e603850>,\n",
              "  <matplotlib.patches.Wedge at 0x7f608e603bd0>,\n",
              "  <matplotlib.patches.Wedge at 0x7f608e67f990>,\n",
              "  <matplotlib.patches.Wedge at 0x7f608e67f750>],\n",
              " [Text(-0.19163499088931965, 1.0831786695955798, 'resign'),\n",
              "  Text(-0.2506963861046614, -1.0710515029605545, 'mate'),\n",
              "  Text(0.9395340952862782, -0.5720801375634317, 'outoftime'),\n",
              "  Text(1.088943531617381, -0.15556987159686797, 'draw')])"
            ]
          },
          "metadata": {
            "tags": []
          },
          "execution_count": 46
        },
        {
          "output_type": "display_data",
          "data": {
            "image/png": "[encoded data removed]",
            "text/plain": [
              "<Figure size 432x288 with 1 Axes>"
            ]
          },
          "metadata": {
            "tags": []
          }
        }
      ]
    },
    {
      "cell_type": "markdown",
      "metadata": {
        "id": "toKB0MW_P6eW"
      },
      "source": [
        "Key Takeaways\n",
        "\n",
        "\n",
        "*   One major factor that is very clear to us is the resign factor. We notice that over 50% (55.57% to be exact) of the games are ending in a resign. From this we can assume a multitude of things. First and foremost, it is shows that some chess players can be impatient or have other commitments that are more important. The second thing we can assume is that a lot of these chess games are having clear outcomes and players are just quitting once they come to a full conclusion that they won't win. To sum it up in order for our model to be more accurate it might be a good idea to think about removing 1/3 or 1/2 of the resign data, because some of these games are going to be irrelevant.\n",
        "\n",
        "\n",
        "\n"
      ]
    },
    {
      "cell_type": "markdown",
      "metadata": {
        "id": "lbec27j_yIb7"
      },
      "source": [
        "# Stacked Machine Learning Ensemble"
      ]
    },
    {
      "cell_type": "markdown",
      "metadata": {
        "id": "gIS_Y4pWzGuT"
      },
      "source": [
        "Import Neccesary Modules\n"
      ]
    },
    {
      "cell_type": "code",
      "metadata": {
        "id": "RQCqWimWyIAl"
      },
      "source": [
        "from xgboost import XGBRegressor\n",
        "import sklearn\n",
        "from sklearn.preprocessing import MinMaxScaler, normalize, LabelEncoder, scale\n",
        "from sklearn.linear_model import LogisticRegression\n",
        "from sklearn.naive_bayes import GaussianNB\n",
        "from sklearn.neighbors import KNeighborsClassifier\n",
        "from sklearn.tree import DecisionTreeRegressor\n",
        "from sklearn.svm import SVC\n",
        "from sklearn.model_selection import cross_val_score, train_test_split\n",
        "from sklearn.model_selection import RepeatedKFold, RepeatedStratifiedKFold\n",
        "from numpy import mean\n",
        "from numpy import std\n",
        "from sklearn.ensemble import StackingClassifier, RandomForestClassifier"
      ],
      "execution_count": 23,
      "outputs": []
    },
    {
      "cell_type": "code",
      "metadata": {
        "colab": {
          "base_uri": "https://localhost:8080/"
        },
        "id": "t64B-hqlK54N",
        "outputId": "ebc456d1-696f-4062-8a8b-73516859162e"
      },
      "source": [
        "print('The scikit-learn version is {}.'.format(sklearn.__version__))"
      ],
      "execution_count": 94,
      "outputs": [
        {
          "output_type": "stream",
          "text": [
            "The scikit-learn version is 0.22.2.post1.\n"
          ],
          "name": "stdout"
        }
      ]
    },
    {
      "cell_type": "markdown",
      "metadata": {
        "id": "8glvhINHzLJa"
      },
      "source": [
        "Data Preprocessing\n"
      ]
    },
    {
      "cell_type": "code",
      "metadata": {
        "id": "7aeFRwUo73Mc"
      },
      "source": [
        "df = pd.read_csv(\"games.csv\")"
      ],
      "execution_count": 62,
      "outputs": []
    },
    {
      "cell_type": "markdown",
      "metadata": {
        "id": "p6F9ttCPj8hc"
      },
      "source": [
        "Encode all the labels so that they are numerical for easy machine learning model integration.\n"
      ]
    },
    {
      "cell_type": "code",
      "metadata": {
        "colab": {
          "base_uri": "https://localhost:8080/"
        },
        "id": "VXND4rLZGfjC",
        "outputId": "eb2fdd57-2910-4623-d25e-5f92930fceac"
      },
      "source": [
        "df = pd.read_csv(\"games.csv\")\n",
        "for i in range(rows):\n",
        "    if df.iloc[i].winner == \"white\":\n",
        "      df[\"winner\"][i] = 0\n",
        "    elif df.iloc[i].winner == \"black\":\n",
        "      df[\"winner\"][i] = 1\n",
        "    else:\n",
        "      df[\"winner\"][i] = 2\n",
        "X = df[[\"rated\", \"white_rating\", \"black_rating\", \"opening_name\"]]\n",
        "X.head()\n",
        "y = df[\"winner\"]\n",
        "y=y.astype('int')\n",
        "print(y.head())\n",
        "\n",
        "\n",
        "rated_encoder = LabelEncoder()\n",
        "white_encoder = LabelEncoder()\n",
        "black_encoder = LabelEncoder()\n",
        "opening_encoder = LabelEncoder()\n",
        "winner_encoder = LabelEncoder()\n",
        "\n",
        "X{\"rated\"} = rated_encoder.fit_transform(X[\"rated\"])\n",
        "X[\"white_rating\"] = white_encoder.fit_transform(X[\"white_rating\"])\n",
        "X[\"black_rating\"] = black_encoder.fit_transform(X[\"black_rating\"])\n",
        "X[\"opening_name\"] = opening_encoder.fit_transform(X[\"opening_name\"])\n",
        "\n",
        "\n",
        "X = X.apply(label_encoder.fit_transform)\n",
        "X.head()\n",
        "\n",
        "X_train, X_test, y_train, y_test = train_test_split(X, y, test_size=0.2)\n",
        "\n",
        "scaler = MinMaxScaler()\n",
        "\n",
        "X_train_normalized = scaler.fit_transform(X_train)\n",
        "\n",
        "X_test_normalized = scaler.fit_transform(X_test)"
      ],
      "execution_count": 80,
      "outputs": [
        {
          "output_type": "stream",
          "text": [
            "/usr/local/lib/python3.7/dist-packages/ipykernel_launcher.py:4: SettingWithCopyWarning: \n",
            "A value is trying to be set on a copy of a slice from a DataFrame\n",
            "\n",
            "See the caveats in the documentation: https://pandas.pydata.org/pandas-docs/stable/user_guide/indexing.html#returning-a-view-versus-a-copy\n",
            "  after removing the cwd from sys.path.\n",
            "/usr/local/lib/python3.7/dist-packages/ipykernel_launcher.py:6: SettingWithCopyWarning: \n",
            "A value is trying to be set on a copy of a slice from a DataFrame\n",
            "\n",
            "See the caveats in the documentation: https://pandas.pydata.org/pandas-docs/stable/user_guide/indexing.html#returning-a-view-versus-a-copy\n",
            "  \n",
            "/usr/local/lib/python3.7/dist-packages/ipykernel_launcher.py:8: SettingWithCopyWarning: \n",
            "A value is trying to be set on a copy of a slice from a DataFrame\n",
            "\n",
            "See the caveats in the documentation: https://pandas.pydata.org/pandas-docs/stable/user_guide/indexing.html#returning-a-view-versus-a-copy\n",
            "  \n"
          ],
          "name": "stderr"
        },
        {
          "output_type": "stream",
          "text": [
            "0    0\n",
            "1    1\n",
            "2    0\n",
            "3    0\n",
            "4    0\n",
            "Name: winner, dtype: int64\n"
          ],
          "name": "stdout"
        },
        {
          "output_type": "stream",
          "text": [
            "/usr/local/lib/python3.7/dist-packages/ipykernel_launcher.py:23: SettingWithCopyWarning: \n",
            "A value is trying to be set on a copy of a slice from a DataFrame.\n",
            "Try using .loc[row_indexer,col_indexer] = value instead\n",
            "\n",
            "See the caveats in the documentation: https://pandas.pydata.org/pandas-docs/stable/user_guide/indexing.html#returning-a-view-versus-a-copy\n",
            "/usr/local/lib/python3.7/dist-packages/ipykernel_launcher.py:24: SettingWithCopyWarning: \n",
            "A value is trying to be set on a copy of a slice from a DataFrame.\n",
            "Try using .loc[row_indexer,col_indexer] = value instead\n",
            "\n",
            "See the caveats in the documentation: https://pandas.pydata.org/pandas-docs/stable/user_guide/indexing.html#returning-a-view-versus-a-copy\n",
            "/usr/local/lib/python3.7/dist-packages/ipykernel_launcher.py:25: SettingWithCopyWarning: \n",
            "A value is trying to be set on a copy of a slice from a DataFrame.\n",
            "Try using .loc[row_indexer,col_indexer] = value instead\n",
            "\n",
            "See the caveats in the documentation: https://pandas.pydata.org/pandas-docs/stable/user_guide/indexing.html#returning-a-view-versus-a-copy\n"
          ],
          "name": "stderr"
        }
      ]
    },
    {
      "cell_type": "markdown",
      "metadata": {
        "id": "uIpf-yyQM6_-"
      },
      "source": [
        "Define a few functions that will evaluate the models!"
      ]
    },
    {
      "cell_type": "code",
      "metadata": {
        "id": "jfilTr4d_l48"
      },
      "source": [
        "def get_models():\n",
        "  models = {}\n",
        "  models[\"gnb\"] = GaussianNB()\n",
        "  models[\"lr\"] = LogisticRegression()\n",
        "  models[\"rfc\"] = RandomForestClassifier()\n",
        "  models[\"svc\"] = SVC()\n",
        "  models[\"knn\"] = KNeighborsClassifier()\n",
        "  return models\n",
        "\n",
        "def eval_model(model, X, y):\n",
        "  rkf = RepeatedKFold(n_splits=10, n_repeats=3, random_state=1)\n",
        "  scores = cross_val_score(model, X, y, scoring='f1_weighted', cv=rkf, n_jobs=-1, error_score='raise')\n",
        "  return scores"
      ],
      "execution_count": 60,
      "outputs": []
    },
    {
      "cell_type": "markdown",
      "metadata": {
        "id": "JXi45e6nNSe3"
      },
      "source": [
        "Go through a evaluate all the models individually.\n"
      ]
    },
    {
      "cell_type": "code",
      "metadata": {
        "colab": {
          "base_uri": "https://localhost:8080/"
        },
        "id": "1pQCFlHV_nsr",
        "outputId": "913cbe94-0444-4e7d-9313-bd7f4ada2663"
      },
      "source": [
        "model_scores = []\n",
        "model_names = []\n",
        "\n",
        "models = get_models()\n",
        "for name, model in models.items():\n",
        "  score = eval_model(model, X_train_normalized, y_train)\n",
        "  model_scores.append(score)\n",
        "  model_names.append(name)\n",
        "  print(f\"Model: {name}, Score = {mean(score)}, {std(score)}\")"
      ],
      "execution_count": 61,
      "outputs": [
        {
          "output_type": "stream",
          "text": [
            "Model: gnb, Score = 0.5792433389886096, 0.011029735023634999\n",
            "Model: lr, Score = 0.6011600978533979, 0.011595775464554635\n",
            "Model: rfc, Score = 0.6117044341081026, 0.011644278988374479\n"
          ],
          "name": "stdout"
        },
        {
          "output_type": "stream",
          "text": [
            "/usr/local/lib/python3.7/dist-packages/joblib/externals/loky/process_executor.py:691: UserWarning: A worker stopped while some jobs were given to the executor. This can be caused by a too short worker timeout or by a memory leak.\n",
            "  \"timeout or by a memory leak.\", UserWarning\n"
          ],
          "name": "stderr"
        },
        {
          "output_type": "stream",
          "text": [
            "Model: svc, Score = 0.5961118387131579, 0.011724442746427621\n",
            "Model: knn, Score = 0.5706564698635277, 0.014783719157369719\n"
          ],
          "name": "stdout"
        }
      ]
    },
    {
      "cell_type": "markdown",
      "metadata": {
        "id": "3oh0LHJ6NXf-"
      },
      "source": [
        "Build the stacked classifier and fit it to the data."
      ]
    },
    {
      "cell_type": "code",
      "metadata": {
        "colab": {
          "base_uri": "https://localhost:8080/"
        },
        "id": "eT0nnAffy1ek",
        "outputId": "a205fa10-0742-4374-8c88-c79bf99c9fe4"
      },
      "source": [
        "def stacked_model():\n",
        "  level0 = []\n",
        "  level0.append((\"gnb\", GaussianNB()))\n",
        "  level0.append(('rfc', RandomForestClassifier()))\n",
        "  level0.append(('svr', SVC()))\n",
        "  level0.append(('knn', KNeighborsClassifier()))\n",
        "  level1 = LogisticRegression(solver='lbfgs', max_iter=1000)\n",
        "  model = StackingClassifier(estimators=level0, final_estimator=level1, cv=5, verbose=2)\n",
        "  return model\n",
        "\n",
        "def fit_to_dataset(X, y):\n",
        "  model = stacked_model()\n",
        "  model.fit(X, y)\n",
        "\n",
        "  return model\n",
        "\n",
        "model = fit_to_dataset(X_train, y_train)"
      ],
      "execution_count": 62,
      "outputs": [
        {
          "output_type": "stream",
          "text": [
            "[Parallel(n_jobs=1)]: Using backend SequentialBackend with 1 concurrent workers.\n",
            "[Parallel(n_jobs=1)]: Done   1 out of   1 | elapsed:    0.0s remaining:    0.0s\n",
            "[Parallel(n_jobs=1)]: Done   5 out of   5 | elapsed:    0.0s finished\n",
            "[Parallel(n_jobs=1)]: Using backend SequentialBackend with 1 concurrent workers.\n",
            "[Parallel(n_jobs=1)]: Done   1 out of   1 | elapsed:    2.4s remaining:    0.0s\n",
            "[Parallel(n_jobs=1)]: Done   5 out of   5 | elapsed:   11.8s finished\n",
            "[Parallel(n_jobs=1)]: Using backend SequentialBackend with 1 concurrent workers.\n",
            "[Parallel(n_jobs=1)]: Done   1 out of   1 | elapsed:    7.1s remaining:    0.0s\n",
            "[Parallel(n_jobs=1)]: Done   5 out of   5 | elapsed:   35.9s finished\n",
            "[Parallel(n_jobs=1)]: Using backend SequentialBackend with 1 concurrent workers.\n",
            "[Parallel(n_jobs=1)]: Done   1 out of   1 | elapsed:    0.0s remaining:    0.0s\n",
            "[Parallel(n_jobs=1)]: Done   5 out of   5 | elapsed:    0.1s finished\n"
          ],
          "name": "stderr"
        }
      ]
    },
    {
      "cell_type": "markdown",
      "metadata": {
        "id": "IImwHaomNcH-"
      },
      "source": [
        "Dump the model to a pickle file and then load it back (just to make sure it saves).\n",
        "\n",
        "\n"
      ]
    },
    {
      "cell_type": "code",
      "metadata": {
        "id": "FvsD2ghuyxl-"
      },
      "source": [
        "import pickle                                                             \n",
        "filename = 'chess_winner_prediction.sav'\n",
        "pickle.dump(model, open(filename, 'wb'))\n",
        "\n",
        "with open(filename, \"rb\") as file:\n",
        "  model = pickle.load(file)"
      ],
      "execution_count": 63,
      "outputs": []
    },
    {
      "cell_type": "markdown",
      "metadata": {
        "id": "oV0EIDHTNpkq"
      },
      "source": [
        "Get the metrics of the model.\n"
      ]
    },
    {
      "cell_type": "code",
      "metadata": {
        "colab": {
          "base_uri": "https://localhost:8080/"
        },
        "id": "gBixrYckyxoS",
        "outputId": "04b79d44-4303-4f8e-9626-a1a68da9aca4"
      },
      "source": [
        "from sklearn.model_selection import train_test_split\n",
        "train_score = model.score(X_train_normalized, y_train)\n",
        "print(f\"Train Score: {train_score}\")\n",
        "test_score = model.score(X_test_normalized, y_test)\n",
        "print(f\"Test Score: {test_score}\")"
      ],
      "execution_count": 92,
      "outputs": [
        {
          "output_type": "stream",
          "text": [
            "Train Score: 0.9495201296273215\n",
            "Test Score: 0.6293619142572283\n"
          ],
          "name": "stdout"
        }
      ]
    },
    {
      "cell_type": "markdown",
      "metadata": {
        "id": "Y8HLd_-GNtzN"
      },
      "source": [
        "Simple Prediction Trials"
      ]
    },
    {
      "cell_type": "code",
      "metadata": {
        "colab": {
          "base_uri": "https://localhost:8080/"
        },
        "id": "7I2_JsUu0u3n",
        "outputId": "674fd492-c93a-45ba-bc1a-6c612a8322b4"
      },
      "source": [
        "X = pd.DataFrame({\"rated\" : True, \"white_rating\" : 1456, \"black_rating\" : 1654, \"opening_name\" : \"Sicilian Defense\"}, index=[0])\n",
        "X[\"rated\"] = rated_encoder.transform(X[\"rated\"])\n",
        "X[\"white_rating\"] = white_encoder.transform(X[\"white_rating\"])\n",
        "X[\"black_rating\"] = black_encoder.transform(X[\"black_rating\"])\n",
        "X[\"opening_name\"] = opening_encoder.transform(X[\"opening_name\"])\n",
        "print(X.head)\n",
        "X = np.array(X)"
      ],
      "execution_count": 84,
      "outputs": [
        {
          "output_type": "stream",
          "text": [
            "<bound method NDFrame.head of    rated  white_rating  black_rating  opening_name\n",
            "0      1           572           781          1194>\n"
          ],
          "name": "stdout"
        }
      ]
    },
    {
      "cell_type": "code",
      "metadata": {
        "colab": {
          "base_uri": "https://localhost:8080/"
        },
        "id": "54YENote0s0W",
        "outputId": "e676e7e0-c1b2-4ad0-d382-b96dc9edf169"
      },
      "source": [
        "winner = model.predict(X)\n",
        "print(winner)"
      ],
      "execution_count": 85,
      "outputs": [
        {
          "output_type": "stream",
          "text": [
            "[1]\n"
          ],
          "name": "stdout"
        }
      ]
    }
  ]
}